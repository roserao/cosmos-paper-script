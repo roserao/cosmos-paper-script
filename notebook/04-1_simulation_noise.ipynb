{
 "cells": [
  {
   "cell_type": "code",
   "execution_count": 1,
   "id": "fa693962",
   "metadata": {},
   "outputs": [],
   "source": [
    "%load_ext autoreload\n",
    "%autoreload 2"
   ]
  },
  {
   "cell_type": "code",
   "execution_count": 2,
   "id": "203a8e7a",
   "metadata": {},
   "outputs": [],
   "source": [
    "import os\n",
    "import json\n",
    "import pickle\n",
    "\n",
    "from dataclasses import asdict\n",
    "from itertools import product\n",
    "from typing import Literal\n",
    "\n",
    "import pandas as pd\n",
    "\n",
    "from cosmos import Simulator, ModelAnalyzer\n",
    "from cosmos.simulator import Config"
   ]
  },
  {
   "cell_type": "code",
   "execution_count": 3,
   "id": "ee38b7ee",
   "metadata": {},
   "outputs": [],
   "source": [
    "SAVE_ROOT = \"../test/sim\""
   ]
  },
  {
   "cell_type": "code",
   "execution_count": 4,
   "id": "eddffc8e",
   "metadata": {},
   "outputs": [],
   "source": [
    "def test_config(config: Config, name: str) -> None:\n",
    "\n",
    "    save_dir = os.path.join(SAVE_ROOT, name)\n",
    "    os.makedirs(save_dir, exist_ok=True)\n",
    "\n",
    "    res_path = os.path.join(save_dir, \"compare.pkl\")\n",
    "\n",
    "    if os.path.exists(res_path):\n",
    "        print(f\"Results for {name} already exist. Skipping simulation.\")\n",
    "        return\n",
    "\n",
    "    with open(f\"{save_dir}/config.pkl\", \"wb\") as f:\n",
    "        pickle.dump(config, f)\n",
    "    with open(f\"{save_dir}/readable_config.json\", \"w\") as f:\n",
    "        json.dump(asdict(config), f)  # For human readability\n",
    "\n",
    "    simulator = Simulator(config=config)\n",
    "    simulator.simulate()\n",
    "    simulator.build_cosmos(os.path.join(save_dir, \"model\"))\n",
    "\n",
    "    for i in simulator.model.all_group_new_index:\n",
    "        print(f\"Running Cosmos on combined group {i}...\", end=\"\\r\")\n",
    "        simulator.model.run_cosmos(group_new_idx=i, no_s_hat=False)\n",
    "\n",
    "    analyzer = ModelAnalyzer(\n",
    "        model=simulator.model,\n",
    "        data_path=os.path.join(save_dir, \"data\"),\n",
    "    )\n",
    "\n",
    "    with open(os.path.join(save_dir, \"simulator.pkl\"), \"wb\") as f:\n",
    "        pickle.dump(simulator, f)\n",
    "\n",
    "    with open(os.path.join(save_dir, \"analyzer.pkl\"), \"wb\") as f:\n",
    "        pickle.dump(analyzer, f)\n",
    "\n",
    "    df_best_models = analyzer.best_models\n",
    "    df_position = simulator.df_position\n",
    "\n",
    "    true_models = df_position.set_index(\"position\")[\"model\"]\n",
    "    selected_models = df_best_models.set_index(\"position\")[\"model_rank1\"]\n",
    "\n",
    "    compare_df = pd.DataFrame(\n",
    "        {\n",
    "            \"true_model\": true_models,\n",
    "            \"selected_model\": selected_models,\n",
    "        }\n",
    "    )\n",
    "\n",
    "    compare_df.to_pickle(res_path)"
   ]
  },
  {
   "cell_type": "code",
   "execution_count": 5,
   "id": "0c63f54a",
   "metadata": {},
   "outputs": [],
   "source": [
    "def get_noisy_config(\n",
    "    n_pos: int,\n",
    "    magnitude: float = 1.0,\n",
    "    param: Literal[\"all\", \"x\", \"y\", \"theta\"] = \"all\",\n",
    "    seed: int = 1000,\n",
    ") -> Config:\n",
    "\n",
    "    config = Simulator.default_config()\n",
    "    config.simulation.n_position = n_pos\n",
    "    config.simulation.seed = seed % (2**32)\n",
    "\n",
    "    match param:\n",
    "        case \"all\":\n",
    "            config.observation.sigma_x *= magnitude\n",
    "            config.observation.sigma_y *= magnitude\n",
    "            config.observation.sigma_theta *= magnitude\n",
    "        case \"x\":\n",
    "            config.observation.sigma_x *= magnitude\n",
    "        case \"y\":\n",
    "            config.observation.sigma_y *= magnitude\n",
    "        case \"theta\":\n",
    "            config.observation.sigma_theta *= magnitude\n",
    "\n",
    "    return config"
   ]
  },
  {
   "cell_type": "code",
   "execution_count": 6,
   "id": "f5073def",
   "metadata": {},
   "outputs": [
    {
     "name": "stdout",
     "output_type": "stream",
     "text": [
      "Skipping noise_1_all as results already exist.\n",
      "Skipping noise_2_all as results already exist.\n",
      "Skipping noise_2_x as results already exist.\n",
      "Skipping noise_2_y as results already exist.\n",
      "Skipping noise_2_theta as results already exist.\n",
      "Skipping noise_4_all as results already exist.\n",
      "Skipping noise_4_x as results already exist.\n",
      "Skipping noise_4_y as results already exist.\n",
      "Skipping noise_4_theta as results already exist.\n",
      "Skipping noise_8_all as results already exist.\n",
      "Skipping noise_8_x as results already exist.\n",
      "Skipping noise_8_y as results already exist.\n",
      "Skipping noise_8_theta as results already exist.\n",
      "Skipping noise_16_all as results already exist.\n",
      "Skipping noise_16_x as results already exist.\n",
      "Skipping noise_16_y as results already exist.\n",
      "Skipping noise_16_theta as results already exist.\n"
     ]
    }
   ],
   "source": [
    "N_POS = 100\n",
    "\n",
    "for idx, (i, param) in enumerate(product(range(5), [\"all\", \"x\", \"y\", \"theta\"])):\n",
    "    # This could be very slow, since it uses one core only.\n",
    "    # See `04_simulate_noise.py` for a parallel implementation.\n",
    "    # Results will be the same.\n",
    "\n",
    "    if i == 0 and param != \"all\":\n",
    "        continue  # i == 0 is equivalent to default noise, only need to run once\n",
    "\n",
    "    magnitude = 2**i\n",
    "    name = f\"noise_{magnitude:d}_{param}\"\n",
    "\n",
    "    if os.path.exists(os.path.join(SAVE_ROOT, name, \"compare.pkl\")):\n",
    "        print(f\"Skipping {name} as results already exist.\")\n",
    "        continue\n",
    "\n",
    "    config = get_noisy_config(\n",
    "        n_pos=N_POS, magnitude=magnitude, param=param, seed=(idx + 5956) * 5243\n",
    "    )\n",
    "    print(f\"Testing config: {name} with magnitude {magnitude} for parameter {param}\")\n",
    "    test_config(config=config, name=name)"
   ]
  },
  {
   "cell_type": "code",
   "execution_count": 7,
   "id": "fa567391",
   "metadata": {},
   "outputs": [
    {
     "name": "stdout",
     "output_type": "stream",
     "text": [
      "Skipping n_var_per_pos_10_noise_1 as results already exist.\n",
      "Skipping n_var_per_pos_15_noise_1 as results already exist.\n",
      "Skipping n_var_per_pos_10_noise_2 as results already exist.\n",
      "Skipping n_var_per_pos_15_noise_2 as results already exist.\n",
      "Skipping n_var_per_pos_10_noise_4 as results already exist.\n",
      "Skipping n_var_per_pos_15_noise_4 as results already exist.\n",
      "Skipping n_var_per_pos_10_noise_8 as results already exist.\n",
      "Skipping n_var_per_pos_15_noise_8 as results already exist.\n",
      "Skipping n_var_per_pos_10_noise_16 as results already exist.\n",
      "Skipping n_var_per_pos_15_noise_16 as results already exist.\n"
     ]
    }
   ],
   "source": [
    "for idx, (log_magnitude, n_var_per_pos) in enumerate(product(range(5), [10, 15])):\n",
    "\n",
    "    magnitude = 2**log_magnitude\n",
    "\n",
    "    # n_var_per_pos == 20 is the default, so we only run for 10 and 15\n",
    "    name = f\"n_var_per_pos_{n_var_per_pos:d}_noise_{magnitude:d}\"\n",
    "\n",
    "    if os.path.exists(os.path.join(SAVE_ROOT, name, \"compare.pkl\")):\n",
    "        print(f\"Skipping {name} as results already exist.\")\n",
    "        continue\n",
    "\n",
    "    seed = (idx + 5109) * 5616\n",
    "\n",
    "    config = get_noisy_config(n_pos=N_POS, magnitude=magnitude, param=\"all\", seed=seed)\n",
    "\n",
    "    config.simulation.n_variant_per_position = n_var_per_pos\n",
    "\n",
    "    print(\n",
    "        f\"Testing config: {name} with n_var_per_pos {n_var_per_pos} and magnitude {magnitude:d}\"\n",
    "    )\n",
    "    test_config(config=config, name=name)"
   ]
  }
 ],
 "metadata": {
  "kernelspec": {
   "display_name": "cosmos-paper-script-py3.13",
   "language": "python",
   "name": "python3"
  },
  "language_info": {
   "codemirror_mode": {
    "name": "ipython",
    "version": 3
   },
   "file_extension": ".py",
   "mimetype": "text/x-python",
   "name": "python",
   "nbconvert_exporter": "python",
   "pygments_lexer": "ipython3",
   "version": "3.13.2"
  }
 },
 "nbformat": 4,
 "nbformat_minor": 5
}
