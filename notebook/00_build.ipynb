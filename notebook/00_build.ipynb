{
 "cells": [
  {
   "cell_type": "code",
   "execution_count": 1,
   "id": "34cad5e1",
   "metadata": {},
   "outputs": [],
   "source": [
    "import os\n",
    "import sys\n",
    "\n",
    "import pandas as pd\n",
    "\n",
    "from cosmos import DMSData, PriorFactory, ModelBuilder, ModelAnalyzer"
   ]
  },
  {
   "cell_type": "code",
   "execution_count": 2,
   "id": "54b916e1",
   "metadata": {},
   "outputs": [],
   "source": [
    "# Load the data\n",
    "\n",
    "# pheno1, pheno2 = \"abundance\", \"surface2\"\n",
    "pheno1, pheno2 = \"surface\", \"function\"\n",
    "no_s_hat = False\n",
    "s_hat_flag = \"no_s_hat\" if no_s_hat else \"s_hat\"\n",
    "\n",
    "df = pd.read_csv(f\"../data/kir21/kir21_effect_{pheno1}_{pheno2}.csv\")"
   ]
  },
  {
   "cell_type": "code",
   "execution_count": null,
   "id": "2ddb47e1",
   "metadata": {},
   "outputs": [],
   "source": [
    "data_obj = DMSData(\n",
    "    df,\n",
    "    [pheno1, pheno2],\n",
    "    include_type=[\"missense\"],\n",
    "    exclude_type=[\n",
    "        \"synonymous\",\n",
    "        \"insertion1\",\n",
    "        \"insertion2\",\n",
    "        \"insertion3\",\n",
    "        \"deletion1\",\n",
    "        \"deletion2\",\n",
    "        \"deletion3\",\n",
    "    ],\n",
    "    min_num_variants_per_group=10,\n",
    ")\n",
    "prior = PriorFactory(\n",
    "    data_obj,\n",
    "    x_name=\"beta_hat_1\",\n",
    "    y_name=\"beta_hat_2\",\n",
    "    x_se_name=\"se_hat_1\",\n",
    "    x_gmm_n_components=2,\n",
    ")\n",
    "model = ModelBuilder(prior, f\"results/{pheno1}_{pheno2}/\")"
   ]
  },
  {
   "cell_type": "code",
   "execution_count": 4,
   "id": "e49ccaa0",
   "metadata": {},
   "outputs": [
    {
     "name": "stdout",
     "output_type": "stream",
     "text": [
      "Running position 44...\r"
     ]
    },
    {
     "name": "stderr",
     "output_type": "stream",
     "text": [
      "/Users/mswang/Desktop/cosmos/src/cosmos/likelihood/double/double.py:95: RuntimeWarning: divide by zero encountered in log\n",
      "  return np.log(gauss_mix_cumulator)\n"
     ]
    },
    {
     "name": "stdout",
     "output_type": "stream",
     "text": [
      "Running position 48...\r"
     ]
    },
    {
     "name": "stderr",
     "output_type": "stream",
     "text": [
      "/Users/mswang/Desktop/cosmos/src/cosmos/likelihood/double/double.py:95: RuntimeWarning: divide by zero encountered in log\n",
      "  return np.log(gauss_mix_cumulator)\n"
     ]
    },
    {
     "name": "stdout",
     "output_type": "stream",
     "text": [
      "Running position 49...\r"
     ]
    },
    {
     "name": "stderr",
     "output_type": "stream",
     "text": [
      "/Users/mswang/Desktop/cosmos/src/cosmos/likelihood/double/double.py:95: RuntimeWarning: divide by zero encountered in log\n",
      "  return np.log(gauss_mix_cumulator)\n"
     ]
    },
    {
     "name": "stdout",
     "output_type": "stream",
     "text": [
      "Running position 87...\r"
     ]
    },
    {
     "name": "stderr",
     "output_type": "stream",
     "text": [
      "/Users/mswang/Desktop/cosmos/src/cosmos/likelihood/double/double.py:95: RuntimeWarning: divide by zero encountered in log\n",
      "  return np.log(gauss_mix_cumulator)\n"
     ]
    },
    {
     "name": "stdout",
     "output_type": "stream",
     "text": [
      "Running position 92...\r"
     ]
    },
    {
     "name": "stderr",
     "output_type": "stream",
     "text": [
      "/Users/mswang/Desktop/cosmos/src/cosmos/likelihood/double/double.py:95: RuntimeWarning: divide by zero encountered in log\n",
      "  return np.log(gauss_mix_cumulator)\n"
     ]
    },
    {
     "name": "stdout",
     "output_type": "stream",
     "text": [
      "Running position 102...\r"
     ]
    },
    {
     "name": "stderr",
     "output_type": "stream",
     "text": [
      "/Users/mswang/Desktop/cosmos/src/cosmos/likelihood/double/double.py:95: RuntimeWarning: divide by zero encountered in log\n",
      "  return np.log(gauss_mix_cumulator)\n"
     ]
    },
    {
     "name": "stdout",
     "output_type": "stream",
     "text": [
      "Running position 103...\r"
     ]
    },
    {
     "name": "stderr",
     "output_type": "stream",
     "text": [
      "/Users/mswang/Desktop/cosmos/src/cosmos/likelihood/double/double.py:95: RuntimeWarning: divide by zero encountered in log\n",
      "  return np.log(gauss_mix_cumulator)\n"
     ]
    },
    {
     "name": "stdout",
     "output_type": "stream",
     "text": [
      "Running position 106...\r"
     ]
    },
    {
     "name": "stderr",
     "output_type": "stream",
     "text": [
      "/Users/mswang/Desktop/cosmos/src/cosmos/likelihood/double/double.py:95: RuntimeWarning: divide by zero encountered in log\n",
      "  return np.log(gauss_mix_cumulator)\n"
     ]
    },
    {
     "name": "stdout",
     "output_type": "stream",
     "text": [
      "Running position 108...\r"
     ]
    },
    {
     "name": "stderr",
     "output_type": "stream",
     "text": [
      "/Users/mswang/Desktop/cosmos/src/cosmos/adapt_grid/grid/grid.py:384: RuntimeWarning: overflow encountered in exp\n",
      "  self._shifted_prior_x_lik_sum += np.exp(\n"
     ]
    },
    {
     "name": "stdout",
     "output_type": "stream",
     "text": [
      "Running position 114...\r"
     ]
    },
    {
     "name": "stderr",
     "output_type": "stream",
     "text": [
      "/Users/mswang/Desktop/cosmos/src/cosmos/likelihood/double/double.py:95: RuntimeWarning: divide by zero encountered in log\n",
      "  return np.log(gauss_mix_cumulator)\n",
      "/Users/mswang/Desktop/cosmos/src/cosmos/adapt_grid/grid/grid.py:384: RuntimeWarning: overflow encountered in exp\n",
      "  self._shifted_prior_x_lik_sum += np.exp(\n"
     ]
    },
    {
     "name": "stdout",
     "output_type": "stream",
     "text": [
      "Running position 122...\r"
     ]
    },
    {
     "name": "stderr",
     "output_type": "stream",
     "text": [
      "/Users/mswang/Desktop/cosmos/src/cosmos/likelihood/double/double.py:95: RuntimeWarning: divide by zero encountered in log\n",
      "  return np.log(gauss_mix_cumulator)\n"
     ]
    },
    {
     "name": "stdout",
     "output_type": "stream",
     "text": [
      "Running position 125...\r"
     ]
    },
    {
     "name": "stderr",
     "output_type": "stream",
     "text": [
      "/Users/mswang/Desktop/cosmos/src/cosmos/likelihood/double/double.py:95: RuntimeWarning: divide by zero encountered in log\n",
      "  return np.log(gauss_mix_cumulator)\n"
     ]
    },
    {
     "name": "stdout",
     "output_type": "stream",
     "text": [
      "Running position 128...\r"
     ]
    },
    {
     "name": "stderr",
     "output_type": "stream",
     "text": [
      "/Users/mswang/Desktop/cosmos/src/cosmos/likelihood/double/double.py:95: RuntimeWarning: divide by zero encountered in log\n",
      "  return np.log(gauss_mix_cumulator)\n"
     ]
    },
    {
     "name": "stdout",
     "output_type": "stream",
     "text": [
      "Running position 129...\r"
     ]
    },
    {
     "name": "stderr",
     "output_type": "stream",
     "text": [
      "/Users/mswang/Desktop/cosmos/src/cosmos/likelihood/double/double.py:95: RuntimeWarning: divide by zero encountered in log\n",
      "  return np.log(gauss_mix_cumulator)\n"
     ]
    },
    {
     "name": "stdout",
     "output_type": "stream",
     "text": [
      "Running position 131...\r"
     ]
    },
    {
     "name": "stderr",
     "output_type": "stream",
     "text": [
      "/Users/mswang/Desktop/cosmos/src/cosmos/likelihood/double/double.py:95: RuntimeWarning: divide by zero encountered in log\n",
      "  return np.log(gauss_mix_cumulator)\n"
     ]
    },
    {
     "name": "stdout",
     "output_type": "stream",
     "text": [
      "Running position 133...\r"
     ]
    },
    {
     "name": "stderr",
     "output_type": "stream",
     "text": [
      "/Users/mswang/Desktop/cosmos/src/cosmos/likelihood/double/double.py:95: RuntimeWarning: divide by zero encountered in log\n",
      "  return np.log(gauss_mix_cumulator)\n"
     ]
    },
    {
     "name": "stdout",
     "output_type": "stream",
     "text": [
      "Running position 135...\r"
     ]
    },
    {
     "name": "stderr",
     "output_type": "stream",
     "text": [
      "/Users/mswang/Desktop/cosmos/src/cosmos/likelihood/double/double.py:95: RuntimeWarning: divide by zero encountered in log\n",
      "  return np.log(gauss_mix_cumulator)\n"
     ]
    },
    {
     "name": "stdout",
     "output_type": "stream",
     "text": [
      "Running position 137...\r"
     ]
    },
    {
     "name": "stderr",
     "output_type": "stream",
     "text": [
      "/Users/mswang/Desktop/cosmos/src/cosmos/likelihood/double/double.py:95: RuntimeWarning: divide by zero encountered in log\n",
      "  return np.log(gauss_mix_cumulator)\n"
     ]
    },
    {
     "name": "stdout",
     "output_type": "stream",
     "text": [
      "Running position 147...\r"
     ]
    },
    {
     "name": "stderr",
     "output_type": "stream",
     "text": [
      "/Users/mswang/Desktop/cosmos/src/cosmos/adapt_grid/grid/grid.py:384: RuntimeWarning: overflow encountered in exp\n",
      "  self._shifted_prior_x_lik_sum += np.exp(\n"
     ]
    },
    {
     "name": "stdout",
     "output_type": "stream",
     "text": [
      "Running position 150...\r"
     ]
    },
    {
     "name": "stderr",
     "output_type": "stream",
     "text": [
      "/Users/mswang/Desktop/cosmos/src/cosmos/likelihood/double/double.py:95: RuntimeWarning: divide by zero encountered in log\n",
      "  return np.log(gauss_mix_cumulator)\n"
     ]
    },
    {
     "name": "stdout",
     "output_type": "stream",
     "text": [
      "Running position 163...\r"
     ]
    },
    {
     "name": "stderr",
     "output_type": "stream",
     "text": [
      "/Users/mswang/Desktop/cosmos/src/cosmos/likelihood/double/double.py:95: RuntimeWarning: divide by zero encountered in log\n",
      "  return np.log(gauss_mix_cumulator)\n"
     ]
    },
    {
     "name": "stdout",
     "output_type": "stream",
     "text": [
      "Running position 189...\r"
     ]
    },
    {
     "name": "stderr",
     "output_type": "stream",
     "text": [
      "/Users/mswang/Desktop/cosmos/src/cosmos/adapt_grid/grid/grid.py:384: RuntimeWarning: overflow encountered in exp\n",
      "  self._shifted_prior_x_lik_sum += np.exp(\n"
     ]
    },
    {
     "name": "stdout",
     "output_type": "stream",
     "text": [
      "Running position 191...\r"
     ]
    },
    {
     "name": "stderr",
     "output_type": "stream",
     "text": [
      "/Users/mswang/Desktop/cosmos/src/cosmos/likelihood/double/double.py:95: RuntimeWarning: divide by zero encountered in log\n",
      "  return np.log(gauss_mix_cumulator)\n"
     ]
    },
    {
     "name": "stdout",
     "output_type": "stream",
     "text": [
      "Running position 193...\r"
     ]
    },
    {
     "name": "stderr",
     "output_type": "stream",
     "text": [
      "/Users/mswang/Desktop/cosmos/src/cosmos/likelihood/double/double.py:95: RuntimeWarning: divide by zero encountered in log\n",
      "  return np.log(gauss_mix_cumulator)\n"
     ]
    },
    {
     "name": "stdout",
     "output_type": "stream",
     "text": [
      "Running position 198...\r"
     ]
    },
    {
     "name": "stderr",
     "output_type": "stream",
     "text": [
      "/Users/mswang/Desktop/cosmos/src/cosmos/likelihood/double/double.py:95: RuntimeWarning: divide by zero encountered in log\n",
      "  return np.log(gauss_mix_cumulator)\n"
     ]
    },
    {
     "name": "stdout",
     "output_type": "stream",
     "text": [
      "Running position 199...\r"
     ]
    },
    {
     "name": "stderr",
     "output_type": "stream",
     "text": [
      "/Users/mswang/Desktop/cosmos/src/cosmos/likelihood/double/double.py:95: RuntimeWarning: divide by zero encountered in log\n",
      "  return np.log(gauss_mix_cumulator)\n"
     ]
    },
    {
     "name": "stdout",
     "output_type": "stream",
     "text": [
      "Running position 206...\r"
     ]
    },
    {
     "name": "stderr",
     "output_type": "stream",
     "text": [
      "/Users/mswang/Desktop/cosmos/src/cosmos/likelihood/double/double.py:95: RuntimeWarning: divide by zero encountered in log\n",
      "  return np.log(gauss_mix_cumulator)\n"
     ]
    },
    {
     "name": "stdout",
     "output_type": "stream",
     "text": [
      "Running position 225...\r"
     ]
    },
    {
     "name": "stderr",
     "output_type": "stream",
     "text": [
      "/Users/mswang/Desktop/cosmos/src/cosmos/likelihood/double/double.py:95: RuntimeWarning: divide by zero encountered in log\n",
      "  return np.log(gauss_mix_cumulator)\n"
     ]
    },
    {
     "name": "stdout",
     "output_type": "stream",
     "text": [
      "Running position 227...\r"
     ]
    },
    {
     "name": "stderr",
     "output_type": "stream",
     "text": [
      "/Users/mswang/Desktop/cosmos/src/cosmos/likelihood/double/double.py:95: RuntimeWarning: divide by zero encountered in log\n",
      "  return np.log(gauss_mix_cumulator)\n"
     ]
    },
    {
     "name": "stdout",
     "output_type": "stream",
     "text": [
      "Running position 247...\r"
     ]
    },
    {
     "name": "stderr",
     "output_type": "stream",
     "text": [
      "/Users/mswang/Desktop/cosmos/src/cosmos/likelihood/double/double.py:95: RuntimeWarning: divide by zero encountered in log\n",
      "  return np.log(gauss_mix_cumulator)\n"
     ]
    },
    {
     "name": "stdout",
     "output_type": "stream",
     "text": [
      "Running position 249...\r"
     ]
    },
    {
     "name": "stderr",
     "output_type": "stream",
     "text": [
      "/Users/mswang/Desktop/cosmos/src/cosmos/likelihood/double/double.py:95: RuntimeWarning: divide by zero encountered in log\n",
      "  return np.log(gauss_mix_cumulator)\n"
     ]
    },
    {
     "name": "stdout",
     "output_type": "stream",
     "text": [
      "Running position 261...\r"
     ]
    },
    {
     "name": "stderr",
     "output_type": "stream",
     "text": [
      "/Users/mswang/Desktop/cosmos/src/cosmos/adapt_grid/grid/grid.py:384: RuntimeWarning: overflow encountered in exp\n",
      "  self._shifted_prior_x_lik_sum += np.exp(\n"
     ]
    },
    {
     "name": "stdout",
     "output_type": "stream",
     "text": [
      "Running position 270...\r"
     ]
    },
    {
     "name": "stderr",
     "output_type": "stream",
     "text": [
      "/Users/mswang/Desktop/cosmos/src/cosmos/likelihood/double/double.py:95: RuntimeWarning: divide by zero encountered in log\n",
      "  return np.log(gauss_mix_cumulator)\n"
     ]
    },
    {
     "name": "stdout",
     "output_type": "stream",
     "text": [
      "Running position 271...\r"
     ]
    },
    {
     "name": "stderr",
     "output_type": "stream",
     "text": [
      "/Users/mswang/Desktop/cosmos/src/cosmos/likelihood/double/double.py:95: RuntimeWarning: divide by zero encountered in log\n",
      "  return np.log(gauss_mix_cumulator)\n"
     ]
    },
    {
     "name": "stdout",
     "output_type": "stream",
     "text": [
      "Running position 295...\r"
     ]
    },
    {
     "name": "stderr",
     "output_type": "stream",
     "text": [
      "/Users/mswang/Desktop/cosmos/src/cosmos/likelihood/double/double.py:95: RuntimeWarning: divide by zero encountered in log\n",
      "  return np.log(gauss_mix_cumulator)\n"
     ]
    },
    {
     "name": "stdout",
     "output_type": "stream",
     "text": [
      "Running position 316...\r"
     ]
    },
    {
     "name": "stderr",
     "output_type": "stream",
     "text": [
      "/Users/mswang/Desktop/cosmos/src/cosmos/likelihood/double/double.py:95: RuntimeWarning: divide by zero encountered in log\n",
      "  return np.log(gauss_mix_cumulator)\n"
     ]
    },
    {
     "name": "stdout",
     "output_type": "stream",
     "text": [
      "Running position 318...\r"
     ]
    },
    {
     "name": "stderr",
     "output_type": "stream",
     "text": [
      "/Users/mswang/Desktop/cosmos/src/cosmos/likelihood/double/double.py:95: RuntimeWarning: divide by zero encountered in log\n",
      "  return np.log(gauss_mix_cumulator)\n"
     ]
    },
    {
     "name": "stdout",
     "output_type": "stream",
     "text": [
      "Running position 326...\r"
     ]
    },
    {
     "name": "stderr",
     "output_type": "stream",
     "text": [
      "/Users/mswang/Desktop/cosmos/src/cosmos/likelihood/double/double.py:95: RuntimeWarning: divide by zero encountered in log\n",
      "  return np.log(gauss_mix_cumulator)\n"
     ]
    },
    {
     "name": "stdout",
     "output_type": "stream",
     "text": [
      "Running position 327...\r"
     ]
    },
    {
     "name": "stderr",
     "output_type": "stream",
     "text": [
      "/Users/mswang/Desktop/cosmos/src/cosmos/adapt_grid/grid/grid.py:384: RuntimeWarning: overflow encountered in exp\n",
      "  self._shifted_prior_x_lik_sum += np.exp(\n"
     ]
    },
    {
     "name": "stdout",
     "output_type": "stream",
     "text": [
      "Running position 342...\r"
     ]
    },
    {
     "name": "stderr",
     "output_type": "stream",
     "text": [
      "/Users/mswang/Desktop/cosmos/src/cosmos/likelihood/double/double.py:95: RuntimeWarning: divide by zero encountered in log\n",
      "  return np.log(gauss_mix_cumulator)\n"
     ]
    },
    {
     "name": "stdout",
     "output_type": "stream",
     "text": [
      "Running position 353...\r"
     ]
    },
    {
     "name": "stderr",
     "output_type": "stream",
     "text": [
      "/Users/mswang/Desktop/cosmos/src/cosmos/likelihood/double/double.py:95: RuntimeWarning: divide by zero encountered in log\n",
      "  return np.log(gauss_mix_cumulator)\n"
     ]
    },
    {
     "name": "stdout",
     "output_type": "stream",
     "text": [
      "Running position 381...\r"
     ]
    },
    {
     "name": "stderr",
     "output_type": "stream",
     "text": [
      "/Users/mswang/Desktop/cosmos/src/cosmos/adapt_grid/grid/grid.py:384: RuntimeWarning: overflow encountered in exp\n",
      "  self._shifted_prior_x_lik_sum += np.exp(\n"
     ]
    },
    {
     "name": "stdout",
     "output_type": "stream",
     "text": [
      "Running position 0.....\r"
     ]
    },
    {
     "name": "stderr",
     "output_type": "stream",
     "text": [
      "/Users/mswang/Desktop/cosmos/src/cosmos/adapt_grid/grid/grid.py:384: RuntimeWarning: overflow encountered in exp\n",
      "  self._shifted_prior_x_lik_sum += np.exp(\n"
     ]
    }
   ],
   "source": [
    "for i in model.data[\"group_new\"].unique():\n",
    "    print(f\"Running position {i}...\", end=\"\\r\")\n",
    "    if f\"sample_group_new_{i}\" in os.listdir(f\"results/{pheno1}_{pheno2}/\"):\n",
    "        continue\n",
    "    model.run_cosmos(\n",
    "        i,\n",
    "        no_s_hat=no_s_hat,\n",
    "        suppress_pareto_warning=True,\n",
    "    )"
   ]
  },
  {
   "cell_type": "code",
   "execution_count": 5,
   "id": "3e122990",
   "metadata": {},
   "outputs": [
    {
     "data": {
      "text/html": [
       "<div>\n",
       "<style scoped>\n",
       "    .dataframe tbody tr th:only-of-type {\n",
       "        vertical-align: middle;\n",
       "    }\n",
       "\n",
       "    .dataframe tbody tr th {\n",
       "        vertical-align: top;\n",
       "    }\n",
       "\n",
       "    .dataframe thead th {\n",
       "        text-align: right;\n",
       "    }\n",
       "</style>\n",
       "<table border=\"1\" class=\"dataframe\">\n",
       "  <thead>\n",
       "    <tr style=\"text-align: right;\">\n",
       "      <th></th>\n",
       "      <th>position</th>\n",
       "      <th>group</th>\n",
       "      <th>model_rank1</th>\n",
       "      <th>tau_mean</th>\n",
       "      <th>tau_std</th>\n",
       "      <th>gamma_mean</th>\n",
       "      <th>gamma_std</th>\n",
       "    </tr>\n",
       "  </thead>\n",
       "  <tbody>\n",
       "    <tr>\n",
       "      <th>0</th>\n",
       "      <td>2.0</td>\n",
       "      <td>1</td>\n",
       "      <td>model_4</td>\n",
       "      <td>0.199849</td>\n",
       "      <td>0.086653</td>\n",
       "      <td>NaN</td>\n",
       "      <td>NaN</td>\n",
       "    </tr>\n",
       "    <tr>\n",
       "      <th>1</th>\n",
       "      <td>3.0</td>\n",
       "      <td>1</td>\n",
       "      <td>model_4</td>\n",
       "      <td>0.199849</td>\n",
       "      <td>0.086653</td>\n",
       "      <td>NaN</td>\n",
       "      <td>NaN</td>\n",
       "    </tr>\n",
       "    <tr>\n",
       "      <th>2</th>\n",
       "      <td>4.0</td>\n",
       "      <td>2</td>\n",
       "      <td>model_3</td>\n",
       "      <td>NaN</td>\n",
       "      <td>NaN</td>\n",
       "      <td>NaN</td>\n",
       "      <td>NaN</td>\n",
       "    </tr>\n",
       "    <tr>\n",
       "      <th>3</th>\n",
       "      <td>5.0</td>\n",
       "      <td>3</td>\n",
       "      <td>model_4</td>\n",
       "      <td>0.220091</td>\n",
       "      <td>0.085406</td>\n",
       "      <td>NaN</td>\n",
       "      <td>NaN</td>\n",
       "    </tr>\n",
       "    <tr>\n",
       "      <th>4</th>\n",
       "      <td>6.0</td>\n",
       "      <td>4</td>\n",
       "      <td>model_4</td>\n",
       "      <td>0.193940</td>\n",
       "      <td>0.099682</td>\n",
       "      <td>NaN</td>\n",
       "      <td>NaN</td>\n",
       "    </tr>\n",
       "    <tr>\n",
       "      <th>...</th>\n",
       "      <td>...</td>\n",
       "      <td>...</td>\n",
       "      <td>...</td>\n",
       "      <td>...</td>\n",
       "      <td>...</td>\n",
       "      <td>...</td>\n",
       "      <td>...</td>\n",
       "    </tr>\n",
       "    <tr>\n",
       "      <th>389</th>\n",
       "      <td>396.0</td>\n",
       "      <td>383</td>\n",
       "      <td>model_6</td>\n",
       "      <td>0.253337</td>\n",
       "      <td>0.081901</td>\n",
       "      <td>0.156544</td>\n",
       "      <td>0.066377</td>\n",
       "    </tr>\n",
       "    <tr>\n",
       "      <th>390</th>\n",
       "      <td>397.0</td>\n",
       "      <td>384</td>\n",
       "      <td>model_4</td>\n",
       "      <td>0.299311</td>\n",
       "      <td>0.096540</td>\n",
       "      <td>NaN</td>\n",
       "      <td>NaN</td>\n",
       "    </tr>\n",
       "    <tr>\n",
       "      <th>391</th>\n",
       "      <td>398.0</td>\n",
       "      <td>385</td>\n",
       "      <td>model_6</td>\n",
       "      <td>0.467452</td>\n",
       "      <td>0.107920</td>\n",
       "      <td>-0.451418</td>\n",
       "      <td>0.206170</td>\n",
       "    </tr>\n",
       "    <tr>\n",
       "      <th>392</th>\n",
       "      <td>399.0</td>\n",
       "      <td>386</td>\n",
       "      <td>model_6</td>\n",
       "      <td>0.225129</td>\n",
       "      <td>0.119132</td>\n",
       "      <td>0.344219</td>\n",
       "      <td>0.127192</td>\n",
       "    </tr>\n",
       "    <tr>\n",
       "      <th>393</th>\n",
       "      <td>400.0</td>\n",
       "      <td>387</td>\n",
       "      <td>model_4</td>\n",
       "      <td>0.417298</td>\n",
       "      <td>0.084614</td>\n",
       "      <td>NaN</td>\n",
       "      <td>NaN</td>\n",
       "    </tr>\n",
       "  </tbody>\n",
       "</table>\n",
       "<p>394 rows × 7 columns</p>\n",
       "</div>"
      ],
      "text/plain": [
       "     position  group model_rank1  tau_mean   tau_std  gamma_mean  gamma_std\n",
       "0         2.0      1     model_4  0.199849  0.086653         NaN        NaN\n",
       "1         3.0      1     model_4  0.199849  0.086653         NaN        NaN\n",
       "2         4.0      2     model_3       NaN       NaN         NaN        NaN\n",
       "3         5.0      3     model_4  0.220091  0.085406         NaN        NaN\n",
       "4         6.0      4     model_4  0.193940  0.099682         NaN        NaN\n",
       "..        ...    ...         ...       ...       ...         ...        ...\n",
       "389     396.0    383     model_6  0.253337  0.081901    0.156544   0.066377\n",
       "390     397.0    384     model_4  0.299311  0.096540         NaN        NaN\n",
       "391     398.0    385     model_6  0.467452  0.107920   -0.451418   0.206170\n",
       "392     399.0    386     model_6  0.225129  0.119132    0.344219   0.127192\n",
       "393     400.0    387     model_4  0.417298  0.084614         NaN        NaN\n",
       "\n",
       "[394 rows x 7 columns]"
      ]
     },
     "execution_count": 5,
     "metadata": {},
     "output_type": "execute_result"
    }
   ],
   "source": [
    "analyzer = ModelAnalyzer(model, f\"results/{pheno1}_{pheno2}/analysis/\", False)\n",
    "df_sum = analyzer.summary(\n",
    "    rank=1, save=True\n",
    ")  # The summary table will be saved to the data_path\n",
    "df_sum"
   ]
  }
 ],
 "metadata": {
  "kernelspec": {
   "display_name": "cosmos-paper-script-py3.13",
   "language": "python",
   "name": "python3"
  },
  "language_info": {
   "codemirror_mode": {
    "name": "ipython",
    "version": 3
   },
   "file_extension": ".py",
   "mimetype": "text/x-python",
   "name": "python",
   "nbconvert_exporter": "python",
   "pygments_lexer": "ipython3",
   "version": "3.13.2"
  }
 },
 "nbformat": 4,
 "nbformat_minor": 5
}
